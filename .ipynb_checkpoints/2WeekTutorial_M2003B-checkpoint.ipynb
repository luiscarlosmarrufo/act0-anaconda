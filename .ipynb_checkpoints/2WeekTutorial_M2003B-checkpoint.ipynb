{
 "cells": [
  {
   "cell_type": "markdown",
   "id": "8f2013af-0348-400b-950e-ea2e2213075e",
   "metadata": {},
   "source": [
    "# Actividad 2: M2003B\n",
    "Author: A. Ramirez-Morales (andres.ramirez@tec.mx)\n",
    "\n",
    "## Instrucciones:\n",
    "- Active el kernel proveniente de `Anaconda`\n",
    "- Complete las funciones donde vea líneas de código inconclusas\n",
    "- Use comentarios para documentar de manera integral sus funciones\n",
    "- Pruebe sus funciones con distintos parámetros\n",
    "- Aumente las explicaciones en el Markdown y en el código\n",
    "- Procure NO usar chatGPT ú otra tecnología similar, usted tiene la capacidad intelectual suficiente para resolverlo por usted mismo\n",
    "- Use la documentación oficial de las librerías que se utilizan\n",
    "- Se entrega un archivo PDF CANVAS como lo indique el profesor\n"
   ]
  },
  {
   "cell_type": "code",
   "execution_count": 1,
   "id": "8b224b49-0978-4969-9093-0486ab0fd0eb",
   "metadata": {},
   "outputs": [],
   "source": [
    "# cargar librerías básicas\n",
    "import numpy as np\n",
    "import matplotlib.pyplot as plt\n",
    "from scipy.stats import norm, shapiro"
   ]
  },
  {
   "cell_type": "markdown",
   "id": "66fd1651-50ff-4af9-ba3b-55fd5599f956",
   "metadata": {},
   "source": [
    "##\n",
    "## 1. Regresión lineal - decenso del gradiente\n",
    "\n",
    "### 1.1 Cargar y visualizar los datos\n",
    "Buscamos los archivos:\n",
    "- `.../data/tutorial_1_data/linear_training.npy`\n",
    "- `.../data/tutorial_1_data/linear_testing.npy`."
   ]
  },
  {
   "cell_type": "code",
   "execution_count": 2,
   "id": "40403222",
   "metadata": {},
   "outputs": [
    {
     "data": {
      "image/png": "[encoded data removed]",
      "text/plain": [
       "<Figure size 640x480 with 1 Axes>"
      ]
     },
     "metadata": {},
     "output_type": "display_data"
    }
   ],
   "source": [
    "xy_training = np.load('data/tutorial_1_data/linear_training.npy')\n",
    "xy_testing = np.load('data/tutorial_1_data/linear_testing.npy')\n",
    "x = xy_training[:, 0]\n",
    "y = xy_training[:, 1]\n",
    "x_test = xy_testing[:, 0]\n",
    "y_test = xy_testing[:, 1]\n",
    "\n",
    "# graficamos\n",
    "plt.scatter(x, y, label='training data')\n",
    "plt.scatter(x_test, y_test, label='testing data')\n",
    "plt.xlabel('$x$')\n",
    "plt.ylabel('$y$')\n",
    "plt.legend()\n",
    "plt.show()"
   ]
  },
  {
   "cell_type": "markdown",
   "id": "ef9110d8",
   "metadata": {},
   "source": [
    "Esta son los datos a los cuales intentaremos ajustar una recta. Queremos ver qué tan cerca podemos llegar de los valores verdaderos de la pendiente y la intersección con el eje $y$ que introdujimos manualmente.\n",
    "\n",
    "### 1.2  Definir la función de pérdida\n",
    "\n",
    "Para lograr un buen ajuste, primero debemos definir qué significa un buen ajuste. En una situación donde estamos tratando de predecir un número, es común usar el **error cuadrático medio** (*Mean Squared Error*, MSE). Este se define como:\n",
    "\n",
    "$$\n",
    "L^{\\rm{MSE}} = \\frac{1}{N}\\sum_i^N \\big(y_i - f(x_i) \\big)^2\n",
    "$$\n",
    "\n",
    "donde $y_i$ es el valor *verdadero* en los datos y $f(x_i)$ es el valor predicho.\n",
    "\n",
    "*Ejercicio:*\n",
    "\n",
    "Complete la siguiente función:\n"
   ]
  },
  {
   "cell_type": "code",
   "execution_count": 3,
   "id": "184797a2",
   "metadata": {},
   "outputs": [],
   "source": [
    "def MSE(y_true, y_pred):\n",
    "    '''\n",
    "    Documentacion\n",
    "    '''\n",
    "    N = y_true.shape[0]\n",
    "    \n",
    "    # calcular la MSE\n",
    "    # no use una loop\n",
    "    ### empiece su codigo aqui ### (alrededor de 1 linea de code)\n",
    "    mse = 1/N * np.sum((y_true - y_pred) ** 2)\n",
    "    ### aqui acaba el codigo ###\n",
    "    \n",
    "    return mse"
   ]
  },
  {
   "cell_type": "code",
   "execution_count": 4,
   "id": "ed31838b",
   "metadata": {},
   "outputs": [
    {
     "name": "stdout",
     "output_type": "stream",
     "text": [
      "MSE = 0.006666666666666678\n"
     ]
    }
   ],
   "source": [
    "# pruebe su función\n",
    "y_true = np.array([1, 2, 3])\n",
    "y_pred = np.array([1.1, 1.9, 3])\n",
    "print('MSE = ' + str(MSE(y_true, y_pred)))"
   ]
  },
  {
   "cell_type": "markdown",
   "id": "b4282818",
   "metadata": {},
   "source": [
    "**Salida esperada**: \n",
    "\n",
    "<table>\n",
    "  <tr>\n",
    "    <td>MSE</td>\n",
    "    <td> 0.006666666666666678</td> \n",
    "  </tr>\n",
    "</table>"
   ]
  },
  {
   "cell_type": "markdown",
   "id": "2a63a02c",
   "metadata": {},
   "source": [
    "### 1.3 Encontrar el gradiente\n",
    "\n",
    "Para encontrar el mínimo de la función de pérdida (minimizar el error), necesitamos calcular el gradiente de la pérdida con respecto a los parámetros del modelo. Como nuestros datos parecen lineales, usemos una forma simple de:\n",
    "\n",
    "$$\n",
    "f(x_i) = m x_i + b\n",
    "$$\n",
    "\n",
    "Escribimos esto aplicando la regla de la cadena, como preparación para el caso de redes neuronales profundas.\n",
    "\n",
    "#### Derivada parcial con respecto a $m$\n",
    "\n",
    "$$\n",
    "\\frac{\\partial}{\\partial m} L^{\\rm{MSE}} = \\frac{1}{N} \\sum_{i=1}^N -2\\left(y_i - f(x_i)\\right) \\cdot \\frac{\\partial f(x_i)}{\\partial m}\n",
    "$$\n",
    "\n",
    "Como $ \\frac{\\partial f(x_i)}{\\partial m} = x_i $, esto se convierte en:\n",
    "\n",
    "$$\n",
    "\\frac{\\partial}{\\partial m} L^{\\rm{MSE}} = \\frac{1}{N} \\sum_{i=1}^N -2\\left(y_i - f(x_i)\\right) \\cdot x_i\n",
    "$$\n",
    "\n",
    "#### Derivada parcial con respecto a $b$\n",
    "\n",
    "$$\n",
    "\\frac{\\partial}{\\partial b} L^{\\rm{MSE}} = \\frac{1}{N} \\sum_{i=1}^N -2\\left(y_i - f(x_i)\\right) \\cdot \\frac{\\partial f(x_i)}{\\partial b}\n",
    "$$\n",
    "\n",
    "Como $\\frac{\\partial f(x_i)}{\\partial b} = 1 $, esto se convierte en:\n",
    "\n",
    "$$\n",
    "\\frac{\\partial}{\\partial b} L^{\\rm{MSE}} = \\frac{1}{N} \\sum_{i=1}^N -2\\left(y_i - f(x_i)\\right)\n",
    "$$\n"
   ]
  },
  {
   "cell_type": "markdown",
   "id": "f3a3b474",
   "metadata": {},
   "source": [
    "### 1.4 Calcular la pérdida y el gradiente juntos\n",
    "\n",
    "*Ejercicio*\n",
    "Este parte del ejercicio será llamado **\"propagación hacia adelante\"** (*forward propagation*) cuando lleguemos a las redes neuronales. Queremos una función que reciba:\n",
    "\n",
    "- los parámetros del modelo $ m $ y $b$,\n",
    "- los datos de entrada,\n",
    "- los valores verdaderos de $y$ ,\n",
    "\n",
    "y que calcule y devuelva la **pérdida** y el **gradiente** (tanto para $m$ como para $b$.\n",
    "\n",
    "Complete la siguiente función de propagación hacia adelante:"
   ]
  },
  {
   "cell_type": "code",
   "execution_count": 5,
   "id": "dbcbdd08",
   "metadata": {},
   "outputs": [],
   "source": [
    "def propagate(m, b, X, Y):\n",
    "    '''\n",
    "    Implementa la función de pérdida y su gradiente\n",
    "\n",
    "    Argumentos:\n",
    "    m -- escalar, pendiente de la recta\n",
    "    b -- escalar, sesgo (intersección)\n",
    "    X -- np.array, datos de entrada\n",
    "    Y -- valores verdaderos\n",
    "\n",
    "    Regresa:\n",
    "    loss -- Error cuadrático medio\n",
    "    dm -- gradiente de la pérdida con respecto a m\n",
    "    db -- gradiente de la pérdida con respecto a b\n",
    "    '''\n",
    "    ### Implemente su code aqui ###\n",
    "    y_pred = m * X + b\n",
    "    loss = MSE(Y, y_pred)\n",
    "    ## fin de code ###\n",
    "    \n",
    "    ### encontrar gradiente\n",
    "    ### Implemente su code aqui ###\n",
    "    N = X.shape[0]\n",
    "    dm = - 2/N * np.sum(X * (Y - y_pred))\n",
    "    db = - 2/N * np.sum(Y - y_pred)\n",
    "    ## fin code ###\n",
    "    \n",
    "    # chequeos de sanidad\n",
    "    assert(dm.dtype == float)\n",
    "    assert(db.dtype == float)\n",
    "    \n",
    "    # este nos crea una tabla \"look-up\", facilita \n",
    "    grads = {'dm': dm,\n",
    "             'db': db\n",
    "            }\n",
    "    \n",
    "    return grads, loss"
   ]
  },
  {
   "cell_type": "markdown",
   "id": "a6a20ab8",
   "metadata": {},
   "source": [
    "*Ejercicio:*\n",
    "\n",
    "Implemente su función"
   ]
  },
  {
   "cell_type": "code",
   "execution_count": 6,
   "id": "e519fcf1",
   "metadata": {},
   "outputs": [
    {
     "name": "stdout",
     "output_type": "stream",
     "text": [
      "dm = 15.7\n",
      "db = 6.8\n",
      "MSE = 15.444999999999999\n"
     ]
    }
   ],
   "source": [
    "m, b, X, Y = 1.0, 2.5, np.array([1, 2, 3, 4]), np.array([1.2, -2.3, 3.0, 4.5])\n",
    "grads, loss = propagate(m, b, X, Y)\n",
    "print('dm = ' + str(grads['dm']))\n",
    "print('db = ' + str(grads['db']))\n",
    "print('MSE = ' + str(loss))"
   ]
  },
  {
   "cell_type": "markdown",
   "id": "e5290fcc",
   "metadata": {},
   "source": [
    "**Salida esperada**: \n",
    "\n",
    "<table>\n",
    "  <tr>\n",
    "    <td>dm</td>\n",
    "    <td>15.7</td> \n",
    "  </tr>\n",
    "  <tr>\n",
    "    <td>db</td>\n",
    "    <td>6.8</td> \n",
    "  </tr>\n",
    "  <tr>\n",
    "    <td>MSE</td>\n",
    "    <td>15.444999999999999</td> \n",
    "  </tr>\n",
    "</table>\n",
    "\n",
    "\n",
    "### 1.5 Realizar la optimización\n",
    "\n",
    "**Ejercicio:** Escriba la función de optimización. El objetivo es aprender los valores de $m$ y $b$ minimizando la función de pérdida.  \n",
    "\n",
    "Para un parámetro $\\theta$, la regla de actualización es:\n",
    "\n",
    "$$\n",
    "\\theta = \\theta - \\alpha \\cdot d\\theta\n",
    "$$\n",
    "\n",
    " donde $\\alpha$ es la **tasa de aprendizaje** (*learning rate*) y $d\\theta$ es la derivada de la pérdida con respecto a $theta$.\n"
   ]
  },
  {
   "cell_type": "code",
   "execution_count": 7,
   "id": "5d4dc0a5",
   "metadata": {},
   "outputs": [],
   "source": [
    "def optimize(m, b, X, Y, num_iterations, learning_rate, print_loss=False):\n",
    "    '''\n",
    "    La función encuentra los valores óptimos de m y b ejecutando un algoritmo de descenso por gradiente\n",
    "\n",
    "    Argumentos:\n",
    "    m -- escalar, pendiente de la recta\n",
    "    b -- escalar, sesgo (intersección)\n",
    "    X -- np.array, datos de entrada\n",
    "    Y -- valores verdaderos\n",
    "    num_iterations -- número de iteraciones del ciclo de optimización\n",
    "    learning_rate -- tasa de aprendizaje de la regla de actualización del descenso por gradiente\n",
    "    print_loss -- True para imprimir la pérdida cada 100 pasos\n",
    "\n",
    "    Regresa:\n",
    "    params -- diccionario que contiene la pendiente m y el sesgo b\n",
    "    grads -- diccionario que contiene los gradientes de la pendiente y el sesgo con respecto a la función de pérdida\n",
    "    losss -- lista de todas las pérdidas calculadas durante la optimización, se usará para graficar la curva de aprendizaje\n",
    "    '''\n",
    "    \n",
    "    losss = []\n",
    "    slopes = []\n",
    "    biases = []\n",
    "    \n",
    "    for i in range(num_iterations):\n",
    "        slopes.append(m)\n",
    "        biases.append(b)\n",
    "        \n",
    "        # loss and caculate gradient\n",
    "        ### empiece code aqui ### (cerca 1 lineas de code)\n",
    "        grads, loss = propagate(m, b, X, Y)\n",
    "        ### termine codigo aqui ###\n",
    "        \n",
    "        # obtenga las derivadas\n",
    "        ### empiece code aqui ### (cerca 2 lineas de code)\n",
    "        dm = grads['dm']\n",
    "        db = grads['db']\n",
    "        ### termine ###\n",
    "        \n",
    "        # update rule\n",
    "        ### empezar code aqui ### (cerca 2 lineasa de code)\n",
    "        m = m - learning_rate * dm\n",
    "        b = b - learning_rate * db\n",
    "        ### terminar codigo aqui ###\n",
    "        \n",
    "        # guardar la loss\n",
    "        losss.append(loss)\n",
    "        \n",
    "        # imprimir loss cada 100 training iterations\n",
    "        if print_loss and i % 100 == 0:\n",
    "            print('loss after iteration %i: %f' %(i, loss))\n",
    "            \n",
    "    params = {'m': m,\n",
    "              'b': b\n",
    "             }\n",
    "    grads = {'dm': dm,\n",
    "             'db': db\n",
    "            }\n",
    "    \n",
    "    return params, grads, losss, slopes, biases"
   ]
  },
  {
   "cell_type": "markdown",
   "id": "1fb40b0e",
   "metadata": {},
   "source": [
    "**Ejercicio:** Ahora usa la función `optimize` para encontrar la mejor recta que se ajuste a los datos, usando como suposición inicial $m = 0$ y $b = 0$.  Por ahora, utilize una **tasa de aprendizaje** de $0.01$ y realiza al menos **1000 iteraciones** de entrenamiento.\n"
   ]
  },
  {
   "cell_type": "code",
   "execution_count": 8,
   "id": "dcb6c2cf",
   "metadata": {},
   "outputs": [
    {
     "name": "stdout",
     "output_type": "stream",
     "text": [
      "loss after iteration 0: 60.550528\n",
      "loss after iteration 100: 3.389798\n",
      "loss after iteration 200: 1.821635\n",
      "loss after iteration 300: 1.274666\n",
      "loss after iteration 400: 1.083885\n",
      "loss after iteration 500: 1.017341\n",
      "loss after iteration 600: 0.994131\n",
      "loss after iteration 700: 0.986036\n",
      "loss after iteration 800: 0.983212\n",
      "loss after iteration 900: 0.982227\n"
     ]
    }
   ],
   "source": [
    "# complete codigo\n",
    "params, grads, losss, slopes, biases = optimize(m=0.0, b=0.0, X=x, Y=y, num_iterations=1000, learning_rate=0.01, print_loss=True)"
   ]
  },
  {
   "cell_type": "markdown",
   "id": "978db900",
   "metadata": {},
   "source": [
    "Vamos a graficar los resultados para ver si el entrenamiento funcionó.  \n",
    "\n",
    "- El panel izquierdo debe mostrar la pérdida MSE, la cual debería disminuir en cada paso de entrenamiento.  \n",
    "- Los siguientes dos paneles muestran el valor de la pendiente y la intersección con el eje $y$ en cada paso de entrenamiento.  \n",
    "\n",
    "Estos valores deberían acercarse asintóticamente a aproximadamente -2 y 5, respectivamente.  \n",
    "\n",
    "Si  esto no ocurre, debe depurar el código de `optimize` anterior.\n"
   ]
  },
  {
   "cell_type": "code",
   "execution_count": 9,
   "id": "d7b0843a",
   "metadata": {},
   "outputs": [
    {
     "data": {
      "image/png": "[encoded data removed]",
      "text/plain": [
       "<Figure size 900x300 with 3 Axes>"
      ]
     },
     "metadata": {},
     "output_type": "display_data"
    }
   ],
   "source": [
    "plt.figure(figsize=(9, 3))\n",
    "\n",
    "plt.subplot(1, 3, 1)\n",
    "plt.plot(losss)\n",
    "plt.xlabel('Iteration')\n",
    "plt.ylabel('MSE')\n",
    "plt.yscale('log')\n",
    "plt.minorticks_on()\n",
    "\n",
    "plt.subplot(1, 3, 2)\n",
    "plt.plot(slopes)\n",
    "plt.xlabel('Iteration')\n",
    "plt.ylabel('Slope')\n",
    "plt.minorticks_on()\n",
    "\n",
    "plt.subplot(1, 3, 3)\n",
    "plt.plot(biases)\n",
    "plt.xlabel('Iteration')\n",
    "plt.ylabel('Bias')\n",
    "plt.minorticks_on()\n",
    "\n",
    "plt.tight_layout()"
   ]
  },
  {
   "cell_type": "markdown",
   "id": "8bbdfccb",
   "metadata": {},
   "source": [
    "### 1.6 Resultados\n",
    "Ahora grafique los resultados de las predicciones comparados con los valores de prueba (test)"
   ]
  },
  {
   "cell_type": "code",
   "execution_count": 10,
   "id": "a9adf2c4",
   "metadata": {},
   "outputs": [
    {
     "data": {
      "image/png": "[encoded data removed]",
      "text/plain": [
       "<Figure size 640x480 with 1 Axes>"
      ]
     },
     "metadata": {},
     "output_type": "display_data"
    }
   ],
   "source": [
    "xrange = np.linspace(0, 10)\n",
    "y_pred = xrange * params['m'] + params['b']\n",
    "plt.plot(xrange, y_pred)\n",
    "plt.scatter(x_test, y_test, color='C1', label='testing data')\n",
    "plt.text(7., 1, r'$y=$' + '{0:.3f}'.format(params['m']) + r'$*x + $' + '{0:.3f}'.format(params['b']),\n",
    "         ha='center', va='top')\n",
    "plt.xlabel('$x$')\n",
    "plt.ylabel('$y$')\n",
    "plt.legend()\n",
    "plt.show()"
   ]
  },
  {
   "cell_type": "markdown",
   "id": "ac469902",
   "metadata": {},
   "source": [
    "Observa que la pérdida es menor para el conjunto de entrenamiento. Esto se debe a que nuestro modelo se entrena para minimizar la pérdida en esos datos. Sin embargo, las pérdidas siguen siendo similares, por lo que no parece que hayamos sobreajustado los datos.\n",
    "\n",
    "### 1.6 Ejercicios de Tarea\n",
    "1. ¿Cuál es el efecto de la tasa de aprendizaje? Intenta variar la tasa de aprendizaje entre $10^{-3}$ y $1$. ¿Qué sucede cuando la tasa de aprendizaje es grande? ¿Por qué?\n",
    "2. ¿Cómo cambiaría el procedimiento si los datos tuvieran forma curva? Carga los archivos `../data/tutorial_1_data/linear_regression_curved_training.npy` y `../data/tutorial_1_data/linear_regression_curved_test.npy` y encuentra una función que ajuste la curva.\n",
    "\n",
    "Como experimento mental adicional, este ejemplo y el ejemplo curvo solo tienen una pieza de información de entrada (es decir, $x$). ¿Cómo generalizaríamos el esquema a más de 1 variable de entrada? Ahora, cada 'evento' $x_i$ es en realidad un vector con $j$ dimensiones. Cambiaré la notación y escribiré todo el conjunto de datos como $X^i_j$, donde los componentes inferiores representan el vector de información, y el componente superior representa los diferentes 'eventos' o puntos de datos. Desarrollaremos esto más en la siguiente sección, cuando exploremos la regresión logística.\n"
   ]
  },
  {
   "cell_type": "markdown",
   "id": "aaee7bef",
   "metadata": {},
   "source": [
    "##\n",
    "## 2. Regresión lineal - método analítico\n",
    "\n",
    "### 2.1 Cargar y visualizar los datos"
   ]
  },
  {
   "cell_type": "code",
   "execution_count": 11,
   "id": "3f3e55f0",
   "metadata": {},
   "outputs": [],
   "source": [
    "import pandas as pd\n",
    "data = pd.read_csv('data/linear_tutorial/linear_data.csv')\n",
    "X = data['X']\n",
    "Y = data['Y']"
   ]
  },
  {
   "cell_type": "markdown",
   "id": "f04718da-5be3-4464-a547-ad3502a3c7f2",
   "metadata": {},
   "source": [
    "### 2.2 Modelo lineal:\n",
    "$$y_i = \\beta_0 + \\beta_1x_i + \\epsilon_i$$\n",
    "\n",
    "**Ejercicio:** Demuestre que:\n",
    "\n",
    "$$\n",
    "\\hat{\\beta_1} = \\frac{\\sum_{i=1}^n x_i y_i - n \\overline{x}\\; \\overline{y}}{\\sum_{i=1}^n x_i^2 - n \\overline{x}^2}\n",
    "$$\n",
    "\n",
    "\n",
    "\n",
    "**Ejercicio:** Complete la siguiente función para obtener los estimadores de $\\beta_0,\\: \\sigma$ y $\\beta_1$."
   ]
  },
  {
   "cell_type": "code",
   "execution_count": 12,
   "id": "5f48f95c-ce3e-4ad3-8eb5-1d725d954dd4",
   "metadata": {},
   "outputs": [],
   "source": [
    "def simple_linear_regression(x, y):\n",
    "    \"\"\"\n",
    "    Documentar correctamente\n",
    "    \n",
    "    \"\"\"\n",
    "    # convertir listas de entrada a arrays de numpy\n",
    "    x = np.array(x)\n",
    "    y = np.array(y)\n",
    "    \n",
    "    # calcular promedios de x, y\n",
    "    x_mean = x.mean()\n",
    "    y_mean = y.mean()\n",
    "\n",
    "    # calcular numerador y denominador para beta_1\n",
    "    n = len(x)\n",
    "    numerator = np.sum(x*y - n*x_mean*y_mean)\n",
    "    denominator = np.sum(x**2 - n*x_mean**2)\n",
    "\n",
    "    # Calcular beta_1 (pendiente)\n",
    "    beta_1_estimador = numerator / denominator\n",
    "\n",
    "    # Calcular beta_0 (intersección)\n",
    "    beta_0_estimador = y_mean - beta_1_estimador*x_mean\n",
    "\n",
    "    # Calcular valores predichos\n",
    "    y_hat = beta_0_estimador + beta_1_estimador*x\n",
    "    \n",
    "    # Calcular residuos\n",
    "    residuals = y - y_hat\n",
    "\n",
    "    # Estimar sigma (desviación estándar de los errores)\n",
    "    sigma_estimador = np.std(residuals)\n",
    "\n",
    "    return beta_0_estimador, beta_1_estimador, sigma_estimador"
   ]
  },
  {
   "cell_type": "markdown",
   "id": "ef892aea-0f7d-4998-9866-ed2847150902",
   "metadata": {},
   "source": [
    "Pruebe su función"
   ]
  },
  {
   "cell_type": "code",
   "execution_count": 13,
   "id": "ce4107ac-161e-4401-bede-cc555b252e2f",
   "metadata": {},
   "outputs": [
    {
     "name": "stdout",
     "output_type": "stream",
     "text": [
      "Estimated beta_0 (intercept): 7.105093498480214\n",
      "Estimated beta_1 (slope): 0.3939176304081845\n",
      "Estimated sigma (error): 57.2618882302448\n"
     ]
    }
   ],
   "source": [
    "beta_0_estimador, beta_1_estimador, sigma_estimador = simple_linear_regression(X, Y)\n",
    "print(f\"Estimated beta_0 (intercept): {beta_0_estimador}\")\n",
    "print(f\"Estimated beta_1 (slope): {beta_1_estimador}\")\n",
    "print(f\"Estimated sigma (error): {sigma_estimador}\")"
   ]
  }
 ],
 "metadata": {
  "kernelspec": {
   "display_name": "Python 3 (ipykernel)",
   "language": "python",
   "name": "python3"
  },
  "language_info": {
   "codemirror_mode": {
    "name": "ipython",
    "version": 3
   },
   "file_extension": ".py",
   "mimetype": "text/x-python",
   "name": "python",
   "nbconvert_exporter": "python",
   "pygments_lexer": "ipython3",
   "version": "3.12.8"
  }
 },
 "nbformat": 4,
 "nbformat_minor": 5
}
