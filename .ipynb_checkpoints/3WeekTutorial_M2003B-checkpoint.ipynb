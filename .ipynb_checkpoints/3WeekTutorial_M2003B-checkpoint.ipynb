{
 "cells": [
  {
   "cell_type": "markdown",
   "id": "8f2013af-0348-400b-950e-ea2e2213075e",
   "metadata": {},
   "source": [
    "# Actividad 3: M2003B\n",
    "Author: A. Ramirez-Morales (andres.ramirez@tec.mx)\n",
    "\n",
    "## Instrucciones:\n",
    "- Active el kernel proveniente de `Anaconda`\n",
    "- Complete las funciones donde vea líneas de código inconclusas\n",
    "- Use comentarios para documentar de manera integral sus funciones\n",
    "- Pruebe sus funciones con distintos parámetros\n",
    "- Aumente las explicaciones en el Markdown y en el código\n",
    "- Procure NO usar chatGPT ú otra tecnología similar, usted tiene la capacidad intelectual suficiente para resolverlo por usted mismo\n",
    "- Use la documentación oficial de las librerías que se utilizan\n",
    "- Se entrega un archivo PDF CANVAS como lo indique el profesor\n"
   ]
  },
  {
   "cell_type": "code",
   "execution_count": 5,
   "id": "8b224b49-0978-4969-9093-0486ab0fd0eb",
   "metadata": {},
   "outputs": [],
   "source": [
    "# cargar librerías básicas\n",
    "import numpy as np\n",
    "import matplotlib.pyplot as plt\n",
    "from scipy.stats import norm, shapiro"
   ]
  },
  {
   "cell_type": "markdown",
   "id": "aaee7bef",
   "metadata": {},
   "source": [
    "##\n",
    "## 1. Regresión lineal - método analítico\n",
    "\n",
    "### 1.1 Cargar y visualizar los datos"
   ]
  },
  {
   "cell_type": "code",
   "execution_count": 6,
   "id": "3f3e55f0",
   "metadata": {},
   "outputs": [],
   "source": [
    "import pandas as pd\n",
    "data = pd.read_csv('data/linear_tutorial/linear_data.csv')\n",
    "X = data['X']\n",
    "Y = data['Y']"
   ]
  },
  {
   "cell_type": "markdown",
   "id": "f04718da-5be3-4464-a547-ad3502a3c7f2",
   "metadata": {},
   "source": [
    "### 1.2 Modelo lineal:\n",
    "$$y_i = \\beta_0 + \\beta_1x_i + \\epsilon_i$$\n",
    "\n",
    "**Ejercicio:** Demuestre que:\n",
    "\n",
    "$$\n",
    "\\hat{\\beta_1} = \\frac{\\sum_{i=1}^n x_i y_i - n \\overline{x}\\; \\overline{y}}{\\sum_{i=1}^n x_i^2 - n \\overline{x}^2}\n",
    "$$\n",
    "\n",
    "\n",
    "\n",
    "**Ejercicio:** Complete la siguiente función para obtener los estimadores de $\\beta_0,\\: \\sigma$, y $\\beta_1$."
   ]
  },
  {
   "cell_type": "code",
   "execution_count": 7,
   "id": "5f48f95c-ce3e-4ad3-8eb5-1d725d954dd4",
   "metadata": {},
   "outputs": [],
   "source": [
    "def simple_linear_regression(x, y):\n",
    "    \"\"\"\n",
    "    Documentar correctamente\n",
    "    \n",
    "    \"\"\"\n",
    "    # convertir listas de entrada a arrays de numpy\n",
    "    x = np.array(x)\n",
    "    y = np.array(y)\n",
    "    \n",
    "    # calcular promedios de x, y\n",
    "    x_mean = x.mean()\n",
    "    y_mean = y.mean()\n",
    "\n",
    "    # calcular numerador y denominador para beta_1\n",
    "    n = len(x)\n",
    "    numerator = np.sum(x*y - n*x_mean*y_mean)\n",
    "    denominator = np.sum(x**2 - n*x_mean**2)\n",
    "    \n",
    "    # calcular beta_1 (pendiente)\n",
    "    beta_1_estimador = numerator / denominator\n",
    "    \n",
    "    # calcular beta_0 (intersección)\n",
    "    beta_0_estimador = y_mean - beta_1_estimador*x_mean\n",
    "\n",
    "    # calcular valores predichos\n",
    "    y_hat = beta_0_estimador + beta_1_estimador*x\n",
    "\n",
    "    # calcular residuos\n",
    "    residuals = y - y_hat\n",
    "    \n",
    "    # estimar sigma (desviación estándar de los errores)\n",
    "    sigma_estimador = np.std(residuals)\n",
    "    \n",
    "    return beta_0_estimador, beta_1_estimador, sigma_estimador"
   ]
  },
  {
   "cell_type": "markdown",
   "id": "ef892aea-0f7d-4998-9866-ed2847150902",
   "metadata": {},
   "source": [
    "Pruebe su función"
   ]
  },
  {
   "cell_type": "code",
   "execution_count": 8,
   "id": "ce4107ac-161e-4401-bede-cc555b252e2f",
   "metadata": {},
   "outputs": [
    {
     "name": "stdout",
     "output_type": "stream",
     "text": [
      "Estimador beta_0 (intercept): 7.105093498480214\n",
      "Estimador beta_1 (slope): 0.3939176304081845\n",
      "Estimador sigma (error): 57.2618882302448\n"
     ]
    }
   ],
   "source": [
    "beta_0_estimador, beta_1_estimador, sigma_estimador = simple_linear_regression(X, Y)\n",
    "print(f\"Estimador beta_0 (intercept): {beta_0_estimador}\")\n",
    "print(f\"Estimador beta_1 (slope): {beta_1_estimador}\")\n",
    "print(f\"Estimador sigma (error): {sigma_estimador}\")"
   ]
  },
  {
   "cell_type": "markdown",
   "id": "e0f0169c",
   "metadata": {},
   "source": [
    "###\n",
    "### 1.3 Errores para los estimadores\n",
    "\n",
    "**Ejercicio:** Escriba una función que calcule los errores de $\\beta_0,\\beta_1$"
   ]
  },
  {
   "cell_type": "markdown",
   "id": "a7d1375d",
   "metadata": {},
   "source": [
    "$$\n",
    "SE(\\hat{\\beta}_1) = \\frac{\\hat{\\sigma}}{\\sqrt{\\sum_{i=1}^n (x_i - \\bar{x})^2}}\n",
    "$$\n",
    "\n",
    "$$\n",
    "SE(\\hat{\\beta}_0) = \\hat{\\sigma} \\cdot \\sqrt{ \\frac{1}{n} + \\frac{\\bar{x}^2}{\\sum_{i=1}^n (x_i - \\bar{x})^2} }\n",
    "$$"
   ]
  },
  {
   "cell_type": "code",
   "execution_count": 11,
   "id": "30a1d70a",
   "metadata": {},
   "outputs": [],
   "source": [
    "\n",
    "def calculate_standard_errors(x, sigma_hat):\n",
    "    \"\"\"\n",
    "    Description:\n",
    "    \n",
    "    Parameters:\n",
    "\n",
    "    Returns:\n",
    "   \n",
    "    \"\"\"\n",
    "    \n",
    "    # calcular los valores medios\n",
    "    x_mean = x.mean()\n",
    "    n = len(x)  # numero de observaciones\n",
    "    \n",
    "    Sxx = np.sum((x - x_mean) ** 2)\n",
    "\n",
    "    # estandard errors para beta_0 y beta_1\n",
    "    se_beta_1 = sigma_hat / np.sqrt(Sxx)\n",
    "    se_beta_0 = sigma_hat * np.sqrt(1/n + (x_mean**2) / Sxx)\n",
    "\n",
    "    return se_beta_0, se_beta_1"
   ]
  },
  {
   "cell_type": "code",
   "execution_count": 12,
   "id": "55ec7d0b",
   "metadata": {},
   "outputs": [
    {
     "name": "stdout",
     "output_type": "stream",
     "text": [
      "Error on beta_0: 3.6234471889798066\n",
      "Error on beta_1: 0.15250216499848743\n"
     ]
    }
   ],
   "source": [
    "se_beta_0, se_beta_1 = calculate_standard_errors(X, sigma_estimador)\n",
    "print(f\"Error on beta_0: {se_beta_0}\")\n",
    "print(f\"Error on beta_1: {se_beta_1}\")"
   ]
  },
  {
   "cell_type": "markdown",
   "id": "b7f50f05",
   "metadata": {},
   "source": [
    "###\n",
    "### 1.4 Distribuciones para los estimadores\n",
    " Dado que los estimadores son no-cesgados y además por el TLC tienen distribuciones Gaussianas, es posible construir distribuciones para ellos.\n",
    "\n",
    "**Ejercicio:** Escriba una función que obtenga dichas distribuciones usando los valores calculados en los ejercicios anteriores.\n",
    " "
   ]
  },
  {
   "cell_type": "code",
   "execution_count": 15,
   "id": "4530eb5f",
   "metadata": {},
   "outputs": [],
   "source": [
    "def generate_distributions(mean1, std1, mean2, std2, num_samples=1000, nu=2):\n",
    "    \"\"\"\n",
    "    Agregar documentacion\n",
    "    \"\"\"\n",
    "    # agregar comentario\n",
    "    gaussian1 = np.random.normal(loc=mean1, scale=std1, size=num_samples)\n",
    "    gaussian2 = np.random.normal(loc=mean2, scale=std2, size=num_samples)\n",
    "\n",
    "    # agregar comentario [Sugerencia: usar np.random.chisquare()]\n",
    "    chi2_dist = np.random.chisquare(df=nu, size=num_samples)\n",
    "\n",
    "    return gaussian1, gaussian2, chi2_dist"
   ]
  },
  {
   "cell_type": "markdown",
   "id": "327425ed",
   "metadata": {},
   "source": [
    "Ejecute el código y haga gráficas de sus las distribuciones de los estimadores."
   ]
  },
  {
   "cell_type": "code",
   "execution_count": 17,
   "id": "672ef897",
   "metadata": {},
   "outputs": [
    {
     "data": {
      "image/png": "[encoded data removed]",
      "text/plain": [
       "<Figure size 1500x500 with 3 Axes>"
      ]
     },
     "metadata": {},
     "output_type": "display_data"
    }
   ],
   "source": [
    "import numpy as np\n",
    "import matplotlib.pyplot as plt\n",
    "\n",
    "beta_0_estimador, beta_1_estimador, sigma_estimador = simple_linear_regression(X, Y)\n",
    "\n",
    "se_b0, se_b1 = calculate_standard_errors(X, sigma_estimador)\n",
    "\n",
    "gauss_b0, gauss_b1, chi2 = generate_distributions(\n",
    "    mean1=beta_0_estimador, std1=se_b0,\n",
    "    mean2=beta_1_estimador, std2=se_b1,\n",
    "    num_samples=5000, nu=len(X)-2\n",
    ")\n",
    "\n",
    "plt.figure(figsize=(15,5))\n",
    "\n",
    "# Distribución de beta_0\n",
    "plt.subplot(1,3,1)\n",
    "plt.hist(gauss_b0, bins=40)\n",
    "plt.title(r\"Distribución de $\\hat{\\beta}_0$\")\n",
    "plt.xlabel(\"Valor\")\n",
    "plt.ylabel(\"Densidad\")\n",
    "\n",
    "# Distribución de beta_1\n",
    "plt.subplot(1,3,2)\n",
    "plt.hist(gauss_b1, bins=40)\n",
    "plt.title(r\"Distribución de $\\hat{\\beta}_1$\")\n",
    "plt.xlabel(\"Valor\")\n",
    "\n",
    "# Distribución Chi-cuadrada\n",
    "plt.subplot(1,3,3)\n",
    "plt.hist(chi2, bins=40)\n",
    "plt.title(r\"Distribución $\\chi^2$\")\n",
    "plt.xlabel(\"Valor\")\n",
    "\n",
    "plt.tight_layout()\n",
    "plt.show()"
   ]
  }
 ],
 "metadata": {
  "kernelspec": {
   "display_name": "mv-tec",
   "language": "python",
   "name": "python3"
  },
  "language_info": {
   "codemirror_mode": {
    "name": "ipython",
    "version": 3
   },
   "file_extension": ".py",
   "mimetype": "text/x-python",
   "name": "python",
   "nbconvert_exporter": "python",
   "pygments_lexer": "ipython3",
   "version": "3.12.8"
  }
 },
 "nbformat": 4,
 "nbformat_minor": 5
}
