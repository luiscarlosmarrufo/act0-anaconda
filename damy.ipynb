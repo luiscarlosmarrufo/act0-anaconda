{
 "cells": [
  {
   "cell_type": "code",
   "execution_count": 1,
   "id": "3a59c1f2",
   "metadata": {},
   "outputs": [],
   "source": [
    "import numpy as np"
   ]
  },
  {
   "cell_type": "markdown",
   "id": "a9a81ba7",
   "metadata": {},
   "source": [
    "## Aproximacion de $\\pi$"
   ]
  },
  {
   "cell_type": "code",
   "execution_count": 2,
   "id": "273056e6",
   "metadata": {},
   "outputs": [
    {
     "data": {
      "text/plain": [
       "array([[0.77682681, 0.02343838],\n",
       "       [0.52573985, 0.98508561],\n",
       "       [0.63509033, 0.03554902],\n",
       "       ...,\n",
       "       [0.17926295, 0.93377417],\n",
       "       [0.75706576, 0.854474  ],\n",
       "       [0.68503721, 0.03649379]], shape=(10000000, 2))"
      ]
     },
     "execution_count": 2,
     "metadata": {},
     "output_type": "execute_result"
    }
   ],
   "source": [
    "n = 10000000\n",
    "\n",
    "x = np.random.uniform(0, 1, size=n)\n",
    "y = np.random.uniform(0, 1, size=n)\n",
    "\n",
    "du = np.vstack([x, y]).T\n",
    "du"
   ]
  },
  {
   "cell_type": "code",
   "execution_count": 3,
   "id": "f37727b9",
   "metadata": {},
   "outputs": [],
   "source": [
    "c = 0\n",
    "for d in du:\n",
    "    if d[0]**2 + d[1]**2 <= 1:\n",
    "        c += 1"
   ]
  },
  {
   "cell_type": "code",
   "execution_count": 4,
   "id": "a8bc7245",
   "metadata": {},
   "outputs": [
    {
     "data": {
      "text/plain": [
       "3.1416128"
      ]
     },
     "execution_count": 4,
     "metadata": {},
     "output_type": "execute_result"
    }
   ],
   "source": [
    "c/du.shape[0] * 4"
   ]
  },
  {
   "cell_type": "markdown",
   "id": "71ecb710",
   "metadata": {},
   "source": [
    "## Estimacion de Integral\n",
    "\n",
    "$$ \\int_{0}^{2} e^{-x^2} \\, dx $$"
   ]
  },
  {
   "cell_type": "code",
   "execution_count": 5,
   "id": "a934c240",
   "metadata": {},
   "outputs": [
    {
     "data": {
      "text/plain": [
       "np.float64(0.8816595779793039)"
      ]
     },
     "execution_count": 5,
     "metadata": {},
     "output_type": "execute_result"
    }
   ],
   "source": [
    "n = 1000000\n",
    "\n",
    "a, b = 0, 2\n",
    "x = np.random.uniform(a, b, size=n)\n",
    "\n",
    "gx = np.exp(-x**2)\n",
    "((b-a)/n) * np.sum(gx)"
   ]
  },
  {
   "cell_type": "markdown",
   "id": "34df98dd",
   "metadata": {},
   "source": [
    "$$\n",
    "P(Z<1.96)\n",
    "$$"
   ]
  },
  {
   "cell_type": "code",
   "execution_count": 6,
   "id": "e93ab108",
   "metadata": {},
   "outputs": [
    {
     "data": {
      "text/plain": [
       "np.float64(0.9746544762946738)"
      ]
     },
     "execution_count": 6,
     "metadata": {},
     "output_type": "execute_result"
    }
   ],
   "source": [
    "a, b = 0, 1.96\n",
    "z = np.random.uniform(a, b, size=n)\n",
    "\n",
    "fz = (1/np.sqrt(2*np.pi))*np.exp((-z**2)/2)\n",
    "0.5 + ((b-a)/n) * np.sum(fz)"
   ]
  },
  {
   "cell_type": "markdown",
   "id": "db343a13",
   "metadata": {},
   "source": [
    "$$ \\int_{0}^{1} \\frac{dx}{x^5 + 1} \\ $$"
   ]
  },
  {
   "cell_type": "code",
   "execution_count": 7,
   "id": "5ad0a64d",
   "metadata": {},
   "outputs": [
    {
     "data": {
      "text/plain": [
       "np.float64(0.8883858257398571)"
      ]
     },
     "execution_count": 7,
     "metadata": {},
     "output_type": "execute_result"
    }
   ],
   "source": [
    "a, b = 0, 1\n",
    "x = np.random.uniform(a, b, size=n)\n",
    "\n",
    "gx = 1/(x**5 + 1)\n",
    "((b-a)/n) * np.sum(gx)"
   ]
  },
  {
   "cell_type": "markdown",
   "id": "a2cef20f",
   "metadata": {},
   "source": []
  },
  {
   "cell_type": "code",
   "execution_count": 8,
   "id": "05a667fe",
   "metadata": {},
   "outputs": [
    {
     "data": {
      "text/plain": [
       "np.float64(4.5399929762484854e-05)"
      ]
     },
     "execution_count": 8,
     "metadata": {},
     "output_type": "execute_result"
    }
   ],
   "source": [
    "n = 500\n",
    "l = 10\n",
    "\n",
    "u = np.random.uniform(0,1)\n",
    "\n",
    "i = 0\n",
    "p = np.exp(-l)\n",
    "F = p\n",
    "F"
   ]
  },
  {
   "cell_type": "code",
   "execution_count": 9,
   "id": "0268ecb4",
   "metadata": {},
   "outputs": [],
   "source": [
    "X = []\n",
    "for x in range(n):\n",
    "    u = np.random.uniform(0,1)\n",
    "    i = 0\n",
    "    p = np.exp(-l)\n",
    "    F = p\n",
    "    while u >= F:\n",
    "        p = l*(p/(i+1))\n",
    "        F += p\n",
    "        i += 1\n",
    "    x = i\n",
    "    X.append(i)"
   ]
  },
  {
   "cell_type": "code",
   "execution_count": 10,
   "id": "36cf079a",
   "metadata": {},
   "outputs": [
    {
     "data": {
      "text/plain": [
       "[7,\n",
       " 7,\n",
       " 9,\n",
       " 11,\n",
       " 7,\n",
       " 11,\n",
       " 10,\n",
       " 11,\n",
       " 12,\n",
       " 8,\n",
       " 14,\n",
       " 13,\n",
       " 7,\n",
       " 4,\n",
       " 7,\n",
       " 12,\n",
       " 14,\n",
       " 14,\n",
       " 10,\n",
       " 10,\n",
       " 7,\n",
       " 11,\n",
       " 6,\n",
       " 7,\n",
       " 16,\n",
       " 6,\n",
       " 13,\n",
       " 5,\n",
       " 14,\n",
       " 6,\n",
       " 9,\n",
       " 18,\n",
       " 8,\n",
       " 8,\n",
       " 7,\n",
       " 6,\n",
       " 2,\n",
       " 15,\n",
       " 8,\n",
       " 9,\n",
       " 11,\n",
       " 10,\n",
       " 14,\n",
       " 10,\n",
       " 14,\n",
       " 7,\n",
       " 14,\n",
       " 6,\n",
       " 8,\n",
       " 10,\n",
       " 16,\n",
       " 17,\n",
       " 2,\n",
       " 9,\n",
       " 14,\n",
       " 10,\n",
       " 11,\n",
       " 14,\n",
       " 8,\n",
       " 12,\n",
       " 13,\n",
       " 9,\n",
       " 10,\n",
       " 8,\n",
       " 10,\n",
       " 5,\n",
       " 16,\n",
       " 11,\n",
       " 14,\n",
       " 16,\n",
       " 9,\n",
       " 15,\n",
       " 11,\n",
       " 7,\n",
       " 12,\n",
       " 12,\n",
       " 6,\n",
       " 12,\n",
       " 16,\n",
       " 12,\n",
       " 15,\n",
       " 14,\n",
       " 18,\n",
       " 10,\n",
       " 7,\n",
       " 7,\n",
       " 10,\n",
       " 10,\n",
       " 8,\n",
       " 9,\n",
       " 7,\n",
       " 11,\n",
       " 13,\n",
       " 16,\n",
       " 10,\n",
       " 15,\n",
       " 8,\n",
       " 9,\n",
       " 9,\n",
       " 17,\n",
       " 12,\n",
       " 11,\n",
       " 6,\n",
       " 5,\n",
       " 10,\n",
       " 10,\n",
       " 13,\n",
       " 8,\n",
       " 8,\n",
       " 8,\n",
       " 7,\n",
       " 18,\n",
       " 6,\n",
       " 5,\n",
       " 9,\n",
       " 11,\n",
       " 11,\n",
       " 8,\n",
       " 9,\n",
       " 7,\n",
       " 14,\n",
       " 12,\n",
       " 8,\n",
       " 11,\n",
       " 8,\n",
       " 8,\n",
       " 8,\n",
       " 14,\n",
       " 9,\n",
       " 13,\n",
       " 15,\n",
       " 7,\n",
       " 9,\n",
       " 6,\n",
       " 11,\n",
       " 21,\n",
       " 11,\n",
       " 8,\n",
       " 10,\n",
       " 8,\n",
       " 9,\n",
       " 9,\n",
       " 22,\n",
       " 11,\n",
       " 5,\n",
       " 10,\n",
       " 9,\n",
       " 7,\n",
       " 11,\n",
       " 9,\n",
       " 13,\n",
       " 14,\n",
       " 9,\n",
       " 5,\n",
       " 19,\n",
       " 10,\n",
       " 9,\n",
       " 9,\n",
       " 7,\n",
       " 11,\n",
       " 9,\n",
       " 7,\n",
       " 6,\n",
       " 8,\n",
       " 11,\n",
       " 10,\n",
       " 7,\n",
       " 12,\n",
       " 10,\n",
       " 9,\n",
       " 8,\n",
       " 12,\n",
       " 13,\n",
       " 16,\n",
       " 11,\n",
       " 7,\n",
       " 8,\n",
       " 11,\n",
       " 8,\n",
       " 14,\n",
       " 12,\n",
       " 13,\n",
       " 7,\n",
       " 12,\n",
       " 15,\n",
       " 10,\n",
       " 11,\n",
       " 9,\n",
       " 17,\n",
       " 9,\n",
       " 7,\n",
       " 7,\n",
       " 6,\n",
       " 10,\n",
       " 5,\n",
       " 15,\n",
       " 6,\n",
       " 10,\n",
       " 9,\n",
       " 8,\n",
       " 19,\n",
       " 9,\n",
       " 7,\n",
       " 6,\n",
       " 10,\n",
       " 12,\n",
       " 11,\n",
       " 7,\n",
       " 4,\n",
       " 15,\n",
       " 7,\n",
       " 9,\n",
       " 11,\n",
       " 9,\n",
       " 6,\n",
       " 9,\n",
       " 6,\n",
       " 7,\n",
       " 14,\n",
       " 12,\n",
       " 10,\n",
       " 10,\n",
       " 10,\n",
       " 7,\n",
       " 14,\n",
       " 11,\n",
       " 10,\n",
       " 13,\n",
       " 11,\n",
       " 8,\n",
       " 12,\n",
       " 11,\n",
       " 6,\n",
       " 12,\n",
       " 9,\n",
       " 11,\n",
       " 8,\n",
       " 13,\n",
       " 11,\n",
       " 10,\n",
       " 9,\n",
       " 15,\n",
       " 5,\n",
       " 10,\n",
       " 10,\n",
       " 5,\n",
       " 8,\n",
       " 17,\n",
       " 9,\n",
       " 11,\n",
       " 8,\n",
       " 10,\n",
       " 16,\n",
       " 6,\n",
       " 7,\n",
       " 6,\n",
       " 8,\n",
       " 12,\n",
       " 7,\n",
       " 12,\n",
       " 8,\n",
       " 9,\n",
       " 15,\n",
       " 12,\n",
       " 11,\n",
       " 10,\n",
       " 3,\n",
       " 16,\n",
       " 7,\n",
       " 10,\n",
       " 9,\n",
       " 9,\n",
       " 10,\n",
       " 11,\n",
       " 10,\n",
       " 8,\n",
       " 10,\n",
       " 9,\n",
       " 9,\n",
       " 12,\n",
       " 15,\n",
       " 15,\n",
       " 9,\n",
       " 9,\n",
       " 11,\n",
       " 23,\n",
       " 6,\n",
       " 7,\n",
       " 14,\n",
       " 8,\n",
       " 9,\n",
       " 11,\n",
       " 10,\n",
       " 8,\n",
       " 7,\n",
       " 7,\n",
       " 14,\n",
       " 16,\n",
       " 8,\n",
       " 11,\n",
       " 12,\n",
       " 11,\n",
       " 9,\n",
       " 8,\n",
       " 15,\n",
       " 8,\n",
       " 12,\n",
       " 13,\n",
       " 11,\n",
       " 9,\n",
       " 10,\n",
       " 9,\n",
       " 9,\n",
       " 9,\n",
       " 17,\n",
       " 7,\n",
       " 6,\n",
       " 8,\n",
       " 9,\n",
       " 8,\n",
       " 9,\n",
       " 8,\n",
       " 11,\n",
       " 13,\n",
       " 15,\n",
       " 9,\n",
       " 10,\n",
       " 8,\n",
       " 11,\n",
       " 12,\n",
       " 4,\n",
       " 8,\n",
       " 4,\n",
       " 10,\n",
       " 10,\n",
       " 8,\n",
       " 8,\n",
       " 7,\n",
       " 7,\n",
       " 9,\n",
       " 7,\n",
       " 9,\n",
       " 10,\n",
       " 10,\n",
       " 14,\n",
       " 12,\n",
       " 5,\n",
       " 10,\n",
       " 6,\n",
       " 6,\n",
       " 7,\n",
       " 15,\n",
       " 9,\n",
       " 8,\n",
       " 13,\n",
       " 5,\n",
       " 13,\n",
       " 14,\n",
       " 12,\n",
       " 9,\n",
       " 6,\n",
       " 16,\n",
       " 7,\n",
       " 8,\n",
       " 9,\n",
       " 12,\n",
       " 10,\n",
       " 9,\n",
       " 7,\n",
       " 6,\n",
       " 3,\n",
       " 13,\n",
       " 3,\n",
       " 15,\n",
       " 9,\n",
       " 10,\n",
       " 5,\n",
       " 14,\n",
       " 9,\n",
       " 10,\n",
       " 12,\n",
       " 6,\n",
       " 8,\n",
       " 11,\n",
       " 11,\n",
       " 14,\n",
       " 11,\n",
       " 5,\n",
       " 9,\n",
       " 7,\n",
       " 9,\n",
       " 14,\n",
       " 10,\n",
       " 8,\n",
       " 12,\n",
       " 16,\n",
       " 11,\n",
       " 15,\n",
       " 14,\n",
       " 7,\n",
       " 11,\n",
       " 11,\n",
       " 13,\n",
       " 7,\n",
       " 6,\n",
       " 8,\n",
       " 8,\n",
       " 6,\n",
       " 9,\n",
       " 7,\n",
       " 14,\n",
       " 10,\n",
       " 7,\n",
       " 9,\n",
       " 8,\n",
       " 16,\n",
       " 12,\n",
       " 6,\n",
       " 9,\n",
       " 7,\n",
       " 8,\n",
       " 7,\n",
       " 11,\n",
       " 11,\n",
       " 13,\n",
       " 8,\n",
       " 16,\n",
       " 8,\n",
       " 11,\n",
       " 16,\n",
       " 15,\n",
       " 9,\n",
       " 6,\n",
       " 7,\n",
       " 14,\n",
       " 7,\n",
       " 7,\n",
       " 11,\n",
       " 12,\n",
       " 8,\n",
       " 8,\n",
       " 3,\n",
       " 10,\n",
       " 9,\n",
       " 19,\n",
       " 11,\n",
       " 10,\n",
       " 11,\n",
       " 7,\n",
       " 14,\n",
       " 9,\n",
       " 7,\n",
       " 7,\n",
       " 14,\n",
       " 11,\n",
       " 8,\n",
       " 12,\n",
       " 14,\n",
       " 6,\n",
       " 14,\n",
       " 9,\n",
       " 9,\n",
       " 11,\n",
       " 14,\n",
       " 13,\n",
       " 8,\n",
       " 11,\n",
       " 10,\n",
       " 10,\n",
       " 6,\n",
       " 10,\n",
       " 6,\n",
       " 11,\n",
       " 3,\n",
       " 7,\n",
       " 9,\n",
       " 11,\n",
       " 8,\n",
       " 10,\n",
       " 13,\n",
       " 9,\n",
       " 6,\n",
       " 8,\n",
       " 10,\n",
       " 14,\n",
       " 18,\n",
       " 12,\n",
       " 9,\n",
       " 11,\n",
       " 5,\n",
       " 9,\n",
       " 3,\n",
       " 6,\n",
       " 8,\n",
       " 10,\n",
       " 14,\n",
       " 10,\n",
       " 10,\n",
       " 8,\n",
       " 18]"
      ]
     },
     "execution_count": 10,
     "metadata": {},
     "output_type": "execute_result"
    }
   ],
   "source": [
    "X"
   ]
  },
  {
   "cell_type": "code",
   "execution_count": 11,
   "id": "d82e4471",
   "metadata": {},
   "outputs": [
    {
     "data": {
      "text/plain": [
       "np.float64(9.978)"
      ]
     },
     "execution_count": 11,
     "metadata": {},
     "output_type": "execute_result"
    }
   ],
   "source": [
    "np.mean(X)"
   ]
  },
  {
   "cell_type": "code",
   "execution_count": 12,
   "id": "ad3410f3",
   "metadata": {},
   "outputs": [
    {
     "data": {
      "text/plain": [
       "np.float64(3.2932531029363656)"
      ]
     },
     "execution_count": 12,
     "metadata": {},
     "output_type": "execute_result"
    }
   ],
   "source": [
    "np.std(X)"
   ]
  },
  {
   "cell_type": "markdown",
   "id": "74fe94b1",
   "metadata": {},
   "source": [
    "## Distribucion binomial"
   ]
  },
  {
   "cell_type": "code",
   "execution_count": 13,
   "id": "09e28a44",
   "metadata": {},
   "outputs": [],
   "source": [
    "n = 500\n",
    "p = 0.3\n",
    "q = 1 - p\n",
    "\n",
    "X = []\n",
    "for x in range(n):\n",
    "    u = np.random.uniform(0,1)\n",
    "    i = 0\n",
    "    pr = q ** n\n",
    "    F = pr\n",
    "    while u >= F:\n",
    "        pr = (n - i) * (p/q) * pr / (i + 1)\n",
    "        F += pr\n",
    "        i += 1\n",
    "    x = i\n",
    "    X.append(i)"
   ]
  },
  {
   "cell_type": "code",
   "execution_count": 14,
   "id": "7848a70f",
   "metadata": {},
   "outputs": [
    {
     "data": {
      "image/png": "[encoded data removed]",
      "text/plain": [
       "<Figure size 640x480 with 1 Axes>"
      ]
     },
     "metadata": {},
     "output_type": "display_data"
    }
   ],
   "source": [
    "import matplotlib.pyplot as plt\n",
    "\n",
    "plt.hist(X, density=True)\n",
    "plt.show()"
   ]
  },
  {
   "cell_type": "markdown",
   "id": "c371f7da",
   "metadata": {},
   "source": [
    "## Weibull"
   ]
  },
  {
   "cell_type": "code",
   "execution_count": 15,
   "id": "616ed5ef",
   "metadata": {},
   "outputs": [
    {
     "data": {
      "image/png": "[encoded data removed]",
      "text/plain": [
       "<Figure size 640x480 with 1 Axes>"
      ]
     },
     "metadata": {},
     "output_type": "display_data"
    },
    {
     "name": "stdout",
     "output_type": "stream",
     "text": [
      "media, var = 1.9003 , 0.0525\n"
     ]
    }
   ],
   "source": [
    "n = 10000\n",
    "alpha = 10\n",
    "beta = 2\n",
    "\n",
    "X = []\n",
    "for _ in range(n):\n",
    "    u = np.random.uniform(0,1)\n",
    "    x = beta * (-np.log(1 - u))**(1.0/alpha)\n",
    "    X.append(x)\n",
    "X = np.array(X)\n",
    "\n",
    "plt.figure()\n",
    "plt.hist(X, bins=30)\n",
    "plt.show()\n",
    "\n",
    "print(\"media, var =\", round(X.mean(), 4), \",\", round(X.var(ddof=1), 4))"
   ]
  },
  {
   "cell_type": "markdown",
   "id": "924d2a32",
   "metadata": {},
   "source": [
    "## Box-Muller"
   ]
  },
  {
   "cell_type": "code",
   "execution_count": 16,
   "id": "af547b18",
   "metadata": {},
   "outputs": [
    {
     "data": {
      "image/png": "[encoded data removed]",
      "text/plain": [
       "<Figure size 640x480 with 1 Axes>"
      ]
     },
     "metadata": {},
     "output_type": "display_data"
    },
    {
     "name": "stdout",
     "output_type": "stream",
     "text": [
      "media, var = 0.0041 , 1.015\n"
     ]
    }
   ],
   "source": [
    "n = 10000\n",
    "m = n // 2\n",
    "u1 = np.random.uniform(0,1,m)\n",
    "u2 = np.random.uniform(0,1,m)\n",
    "\n",
    "r = np.sqrt(-2.0*np.log(u1))\n",
    "theta = 2.0*np.pi*u2\n",
    "z1 = r*np.cos(theta)\n",
    "z2 = r*np.sin(theta)\n",
    "\n",
    "Z = np.concatenate([z1, z2])\n",
    "if Z.size < n:  # por si n es impar\n",
    "    Z = np.append(Z, (np.sqrt(-2*np.log(np.random.uniform())) *\n",
    "                      np.cos(2*np.pi*np.random.uniform())))\n",
    "Z = Z[:n]\n",
    "\n",
    "plt.figure()\n",
    "plt.hist(Z, bins=30)\n",
    "plt.show()\n",
    "\n",
    "print(\"media, var =\", round(Z.mean(), 4), \",\", round(Z.var(ddof=1), 4))"
   ]
  },
  {
   "cell_type": "markdown",
   "id": "d1a2ac49",
   "metadata": {},
   "source": [
    "# Metodo de Rechazo"
   ]
  },
  {
   "cell_type": "code",
   "execution_count": 41,
   "id": "89dd65ee",
   "metadata": {},
   "outputs": [],
   "source": [
    "n = 50000\n",
    "X = []\n",
    "\n",
    "for _ in range(n):\n",
    "    u1 = np.random.uniform(0,1)\n",
    "    u2 = np.random.uniform(0,1)\n",
    "\n",
    "    while u2 > u1*(1 - u1)**3:\n",
    "        u1 = np.random.uniform(0,1)\n",
    "        u2 = np.random.uniform(0,1)\n",
    "    X.append(u1)"
   ]
  },
  {
   "cell_type": "code",
   "execution_count": 43,
   "id": "9a46bef4",
   "metadata": {},
   "outputs": [
    {
     "data": {
      "image/png": "[encoded data removed]",
      "text/plain": [
       "<Figure size 640x480 with 1 Axes>"
      ]
     },
     "metadata": {},
     "output_type": "display_data"
    }
   ],
   "source": [
    "plt.hist(X, bins=30)\n",
    "plt.show()"
   ]
  },
  {
   "cell_type": "code",
   "execution_count": null,
   "id": "22cd0c64",
   "metadata": {},
   "outputs": [],
   "source": [
    "n = 5000\n",
    "X_abs = []\n",
    "X = []\n",
    "\n",
    "for i in range(n):\n",
    "    y = np.random.exponential(scale=1)\n",
    "    u = np.random.uniform(0, 1)\n",
    "\n",
    "    while u > np.exp(-(y -1)**2 / 2):\n",
    "        y = np.random.exponential(scale=1)\n",
    "        u = np.random.uniform(0, 1)\n",
    "    \n",
    "    X_abs.append(y)\n",
    "    X.append(y * (-1)**i)"
   ]
  },
  {
   "cell_type": "code",
   "execution_count": 67,
   "id": "5be75218",
   "metadata": {},
   "outputs": [
    {
     "data": {
      "image/png": "[encoded data removed]",
      "text/plain": [
       "<Figure size 640x480 with 1 Axes>"
      ]
     },
     "metadata": {},
     "output_type": "display_data"
    }
   ],
   "source": [
    "plt.hist(X_abs, bins=15)\n",
    "plt.show()"
   ]
  },
  {
   "cell_type": "code",
   "execution_count": 68,
   "id": "56f53831",
   "metadata": {},
   "outputs": [
    {
     "data": {
      "image/png": "[encoded data removed]",
      "text/plain": [
       "<Figure size 640x480 with 1 Axes>"
      ]
     },
     "metadata": {},
     "output_type": "display_data"
    }
   ],
   "source": [
    "plt.hist(X, bins=30)\n",
    "plt.show()"
   ]
  },
  {
   "cell_type": "code",
   "execution_count": null,
   "id": "5acca07e",
   "metadata": {},
   "outputs": [],
   "source": []
  }
 ],
 "metadata": {
  "kernelspec": {
   "display_name": "mv-tec",
   "language": "python",
   "name": "python3"
  },
  "language_info": {
   "codemirror_mode": {
    "name": "ipython",
    "version": 3
   },
   "file_extension": ".py",
   "mimetype": "text/x-python",
   "name": "python",
   "nbconvert_exporter": "python",
   "pygments_lexer": "ipython3",
   "version": "3.12.8"
  }
 },
 "nbformat": 4,
 "nbformat_minor": 5
}
